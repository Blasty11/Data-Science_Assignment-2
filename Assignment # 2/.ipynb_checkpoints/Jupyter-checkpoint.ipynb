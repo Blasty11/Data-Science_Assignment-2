{
 "cells": [
  {
   "cell_type": "markdown",
   "id": "0d0d0f32",
   "metadata": {},
   "source": [
    "# Electricity Demand Data Analysis and Processing\n",
    "\n",
    "This project involves integrating multiple CSV and JSON files containing electricity demand and weather data. The objectives are to clean and preprocess the data, detect and handle outliers, perform exploratory data analysis (EDA), and build a regression model to predict electricity demand. The final deliverables are a cleaned CSV file and this Jupyter Notebook documenting the entire process.\n"
   ]
  },
  {
   "cell_type": "markdown",
   "metadata": {},
   "source": [
    "## Environment Setup\n",
    "\n",
    "The following libraries are required for this project:\n",
    "- pandas\n",
    "- matplotlib\n",
    "- seaborn\n",
    "- scikit-learn\n",
    "- statsmodels\n",
    "- json\n",
    "\n",
    "You can install these using pip:\n",
    "\n"
   ]
  },
  {
   "cell_type": "markdown",
   "id": "13e7d428",
   "metadata": {},
   "source": [
    "import os\n",
    "import pandas as pd\n",
    "import json\n",
    "import matplotlib.pyplot as plt\n",
    "import seaborn as sns\n",
    "from scipy.stats import skew, kurtosis, zscore\n",
    "from statsmodels.tsa.seasonal import seasonal_decompose\n",
    "from statsmodels.tsa.stattools import adfuller\n",
    "from sklearn.model_selection import train_test_split\n",
    "from sklearn.linear_model import LinearRegression\n",
    "from sklearn.metrics import mean_squared_error, r2_score\n"
   ]
  },
  {
   "cell_type": "markdown",
   "id": "e5ebd768",
   "metadata": {},
   "source": [
    "## Data Integration\n",
    "\n",
    "The project data is split into multiple CSV files (weather data) and JSON files (electricity demand data). The following code merges these files into single CSV files for further processing."
   ]
  },
  {
   "cell_type": "markdown",
   "id": "4f4a22e1",
   "metadata": {},
   "source": [
    "## Data Preprocessing and Cleaning\n",
    "\n",
    "In this step, we:\n",
    "- Drop columns with more than 50% missing values.\n",
    "- Fill missing values using median imputation for numeric columns and mode imputation for categorical columns.\n",
    "- Convert the 'period' column to a datetime format and extract features such as hour, day, month, etc.\n",
    "- Remove duplicate rows.\n"
   ]
  },
  {
   "cell_type": "markdown",
   "id": "88980fc7",
   "metadata": {},
   "source": [
    "## Exploratory Data Analysis (EDA)\n",
    "\n",
    "Below are some visualizations and statistical summaries to understand the distribution, relationships, and trends in the data.\n"
   ]
  },
  {
   "cell_type": "markdown",
   "id": "11623520",
   "metadata": {},
   "source": [
    "## Regression Modeling\n",
    "\n",
    "We use a linear regression model to predict electricity demand based on time-based features extracted from the 'period' column. The dataset is split into training and testing sets, and the model's performance is evaluated using Mean Squared Error (MSE), Root Mean Squared Error (RMSE), and R² score.\n"
   ]
  },
  {
   "cell_type": "markdown",
   "id": "fc3ce655",
   "metadata": {},
   "source": [
    "## Final Submission\n",
    "\n",
    "The final deliverables for this project are:\n",
    "- **final_cleaned_data.csv:** The cleaned and processed dataset.\n",
    "- **project.ipynb:** This Jupyter Notebook documenting the entire data processing, analysis, and modeling workflow.\n"
   ]
  }
 ],
 "metadata": {
  "kernelspec": {
   "display_name": "Python 3 (ipykernel)",
   "language": "python",
   "name": "python3"
  },
  "language_info": {
   "codemirror_mode": {
    "name": "ipython",
    "version": 3
   },
   "file_extension": ".py",
   "mimetype": "text/x-python",
   "name": "python",
   "nbconvert_exporter": "python",
   "pygments_lexer": "ipython3",
   "version": "3.12.8"
  }
 },
 "nbformat": 4,
 "nbformat_minor": 5
}
